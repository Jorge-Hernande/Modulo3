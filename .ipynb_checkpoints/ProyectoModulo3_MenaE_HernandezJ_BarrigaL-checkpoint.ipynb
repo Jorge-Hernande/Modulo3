{
 "cells": [
  {
   "cell_type": "code",
   "execution_count": 1,
   "metadata": {},
   "outputs": [],
   "source": [
    "import sympy as sym\n",
    "import numpy as np\n",
    "import matplotlib.pyplot as plt\n",
    "from sympy import *\n",
    "init_printing()"
   ]
  },
  {
   "cell_type": "markdown",
   "metadata": {},
   "source": [
    "# Decaimiento radioactivo#"
   ]
  },
  {
   "cell_type": "markdown",
   "metadata": {},
   "source": [
    "**Modelo matemático**"
   ]
  },
  {
   "cell_type": "markdown",
   "metadata": {},
   "source": [
    "$\\frac{dM}{dt}=kM$"
   ]
  },
  {
   "cell_type": "markdown",
   "metadata": {},
   "source": [
    "Solucion general:"
   ]
  },
  {
   "cell_type": "code",
   "execution_count": 2,
   "metadata": {},
   "outputs": [
    {
     "data": {
      "image/png": "[encoded data removed]",
      "text/latex": [
       "$\\displaystyle M{\\left(t \\right)} = C_{1} e^{k t}$"
      ],
      "text/plain": [
       "           k⋅t\n",
       "M(t) = C₁⋅ℯ   "
      ]
     },
     "execution_count": 2,
     "metadata": {},
     "output_type": "execute_result"
    }
   ],
   "source": [
    "t= symbols(\"t\")\n",
    "k=symbols(\"k\")\n",
    "M= Function(\"M\")\n",
    "ed= Eq(M(t).diff(),k*M(t))\n",
    "sol=dsolve(ed,M(t))\n",
    "sol"
   ]
  },
  {
   "cell_type": "markdown",
   "metadata": {},
   "source": [
    "Es común conocer la cantidad (inicial) de material existente en $t=0$, lo que se expresa por $M(0)=M_0$."
   ]
  },
  {
   "cell_type": "markdown",
   "metadata": {},
   "source": [
    "Con esto podemos calcular la constante C:"
   ]
  },
  {
   "cell_type": "code",
   "execution_count": 3,
   "metadata": {},
   "outputs": [
    {
     "data": {
      "image/png": "[encoded data removed]",
      "text/latex": [
       "$\\displaystyle M{\\left(0 \\right)} = C_{1} = M_{0}$"
      ],
      "text/plain": [
       "M(0) = C₁ = M₀"
      ]
     },
     "execution_count": 3,
     "metadata": {},
     "output_type": "execute_result"
    }
   ],
   "source": [
    "Eq0=sol.subs('t',0)\n",
    "sym.var('M0')\n",
    "sym.Eq(Eq0,M0)"
   ]
  },
  {
   "cell_type": "markdown",
   "metadata": {},
   "source": [
    "Entonces tenemos:"
   ]
  },
  {
   "cell_type": "code",
   "execution_count": 4,
   "metadata": {},
   "outputs": [
    {
     "data": {
      "image/png": "[encoded data removed]",
      "text/latex": [
       "$\\displaystyle M{\\left(t \\right)} = M_{0} e^{k t}$"
      ],
      "text/plain": [
       "           k⋅t\n",
       "M(t) = M₀⋅ℯ   "
      ]
     },
     "execution_count": 4,
     "metadata": {},
     "output_type": "execute_result"
    }
   ],
   "source": [
    "sol.subs('C1',M0)"
   ]
  },
  {
   "cell_type": "markdown",
   "metadata": {},
   "source": [
    "**Esta va a ser la solucion general que nos ayude para sustituir nuestros datos y así poder hallar nuestra solución númerica.**"
   ]
  },
  {
   "cell_type": "markdown",
   "metadata": {},
   "source": [
    "De esta última expresión observemos que se puede calcular k si conocemos la cantidad de material existente en un tiempo $t_1>0$, digamos $M(t_1)=M_1<M_0$"
   ]
  },
  {
   "cell_type": "markdown",
   "metadata": {},
   "source": [
    "$M(t_1)=M_1=M_0e^{kt_1} => \\frac{M_1}{M_0}=kt_1$"
   ]
  },
  {
   "cell_type": "markdown",
   "metadata": {},
   "source": [
    "Así concluimos que:"
   ]
  },
  {
   "cell_type": "markdown",
   "metadata": {},
   "source": [
    "$k=\\frac{ln(M_1)-ln(M_0)}{t_1}$"
   ]
  },
  {
   "cell_type": "markdown",
   "metadata": {},
   "source": [
    "Observaciones:\n",
    "\n",
    "a)  Un caso en particular ocurre cuando $M(t_1)=\\frac{M_0}{2}$. Esto es, se conoce el tiempo que transcurre para que la cantidad de material radioactivo decaiga la mitad. Este tiempo se conoce como la vida media del material radioactivo.En este caso"
   ]
  },
  {
   "cell_type": "markdown",
   "metadata": {},
   "source": [
    "$M(t_m)=\\frac{M_0}{2}=M_0e^{k}{t_m} => \\frac{1}{2}=e^{k}{t_m}=> ln(\\frac{1}{2})=kt_m$"
   ]
  },
  {
   "cell_type": "markdown",
   "metadata": {},
   "source": [
    "Entonces: $kt_m=-ln2$,de donde podemos despejar por igual:\n",
    "\n",
    "\n",
    "\n",
    "$k=\\frac{-ln2}{t_m}$ & $t_m=\\frac{-ln2}{k}$"
   ]
  },
  {
   "cell_type": "markdown",
   "metadata": {},
   "source": [
    "Ademas, en vista de lo anterior podemos afirmar que la vida media de un material no depende de la cantidad inicial del mismo."
   ]
  },
  {
   "cell_type": "markdown",
   "metadata": {},
   "source": [
    "Si se proporcionan $M(t_1)=M_1$ & $M(t_2)$ para dos tiempos $t_1<t_2$, obtenemos los siguientes resultados:\n",
    "\n",
    "$M(t_1)=M_1=Ce^{kt_1}$\n",
    "\n",
    "\n",
    "\n",
    "$M(t_2)=M_2=Ce^{kt_2}$"
   ]
  },
  {
   "cell_type": "markdown",
   "metadata": {},
   "source": [
    "Tenemos un sistema de dos ecuaciones con dos incognitas, C y k. Para resolverlo podemos dividir la segunda ecuación entre la primera y así obtenemos:\n",
    "\n",
    "$\\frac{M_2}{M_1}=\\frac{Ce^kt_2}{Ce^kt_1}=\\frac{e^kt_2}{e^kt_1}=e^{k(t_2-t_1)}$"
   ]
  },
  {
   "cell_type": "markdown",
   "metadata": {},
   "source": [
    "De donde:\n",
    "$ln(\\frac{M_2}{M_1})=k(t_2-t_1)$"
   ]
  },
  {
   "cell_type": "markdown",
   "metadata": {},
   "source": [
    "Despejamos:\n",
    "\n",
    "\n",
    "$k=\\frac{lnM_2-lnM_1}{t_2-t_1}$    "
   ]
  },
  {
   "cell_type": "markdown",
   "metadata": {},
   "source": [
    "Ademas tenemos tambien:\n",
    "\n",
    "$M_1=Ce^kt_1=>C=M_1e^{-kt_1}$  \n",
    "\n",
    "Y por tanto al substituir en $M(t)=Ce^{kt}$:\n",
    "\n",
    "$M(t)=M_1e^{k(t-t_1)}$\n",
    "\n",
    "En donde k lo obtuvimos de despejarla anteriormente"
   ]
  },
  {
   "cell_type": "code",
   "execution_count": 5,
   "metadata": {},
   "outputs": [
    {
     "data": {
      "image/png": "[encoded data removed]",
      "text/latex": [
       "$\\displaystyle M{\\left(t \\right)} = C_{1} e^{k t}$"
      ],
      "text/plain": [
       "           k⋅t\n",
       "M(t) = C₁⋅ℯ   "
      ]
     },
     "execution_count": 5,
     "metadata": {},
     "output_type": "execute_result"
    }
   ],
   "source": [
    "t= symbols(\"t\")\n",
    "k=symbols(\"k\")\n",
    "M= Function(\"M\")\n",
    "ed= Eq(M(t).diff(),k*M(t))\n",
    "sol=dsolve(ed,M(t))\n",
    "sol"
   ]
  },
  {
   "cell_type": "markdown",
   "metadata": {},
   "source": [
    "Es común conocer la cantidad (inicial) de material existente en $t=0$, lo que se expresa por $M(0)=M_0$."
   ]
  },
  {
   "cell_type": "markdown",
   "metadata": {},
   "source": [
    "Con esto podemos calcular la constante C:"
   ]
  },
  {
   "cell_type": "code",
   "execution_count": 6,
   "metadata": {},
   "outputs": [
    {
     "data": {
      "image/png": "[encoded data removed]",
      "text/latex": [
       "$\\displaystyle M{\\left(0 \\right)} = C_{1} = M_{0}$"
      ],
      "text/plain": [
       "M(0) = C₁ = M₀"
      ]
     },
     "execution_count": 6,
     "metadata": {},
     "output_type": "execute_result"
    }
   ],
   "source": [
    "Eq0=sol.subs('t',0)\n",
    "sym.var('M0')\n",
    "sym.Eq(Eq0,M0)"
   ]
  },
  {
   "cell_type": "markdown",
   "metadata": {},
   "source": [
    "Entonces tenemos:"
   ]
  },
  {
   "cell_type": "code",
   "execution_count": 7,
   "metadata": {},
   "outputs": [
    {
     "data": {
      "image/png": "[encoded data removed]",
      "text/latex": [
       "$\\displaystyle M{\\left(t \\right)} = M_{0} e^{k t}$"
      ],
      "text/plain": [
       "           k⋅t\n",
       "M(t) = M₀⋅ℯ   "
      ]
     },
     "execution_count": 7,
     "metadata": {},
     "output_type": "execute_result"
    }
   ],
   "source": [
    "sol.subs('C1',M0)"
   ]
  },
  {
   "cell_type": "code",
   "execution_count": 8,
   "metadata": {},
   "outputs": [
    {
     "data": {
      "image/png": "[encoded data removed]",
      "text/latex": [
       "$\\displaystyle M{\\left(t \\right)} = M_{0} e^{k t}$"
      ],
      "text/plain": [
       "           k⋅t\n",
       "M(t) = M₀⋅ℯ   "
      ]
     },
     "execution_count": 8,
     "metadata": {},
     "output_type": "execute_result"
    }
   ],
   "source": [
    "n=sol.subs(\"C1\",M0)\n",
    "n"
   ]
  },
  {
   "cell_type": "markdown",
   "metadata": {},
   "source": [
    "De esta última expresión observemos que se puede calcular k si conocemos la cantidad de material existente en un tiempo $t_1>0$, digamos $M(t_1)=M_1<M_0$"
   ]
  },
  {
   "cell_type": "markdown",
   "metadata": {},
   "source": [
    "$M(t_1)=M_1=M_0e^kt_1 => \\frac{M_1}{M_0}$"
   ]
  },
  {
   "cell_type": "code",
   "execution_count": 9,
   "metadata": {},
   "outputs": [],
   "source": [
    "def k(M0,i,t):\n",
    "    perdida=(M0*i)/100\n",
    "    M1=M0-perdida\n",
    "    M2=M1/M0\n",
    "    k=np.log(M2)/t\n",
    "    Mt=M0*np.exp(k*t)\n",
    "    return k"
   ]
  },
  {
   "cell_type": "markdown",
   "metadata": {},
   "source": [
    "**En nuestro problema tenemos una masa de 100 miligramos que despues de dos años disminuye su masa 5%. Con estos valores obtenemos la masa despues de los dos años que es de 95 miligramos y despues sacamos nuestra k (constante de proporcionalidad), esta nos queda de -0.02564**"
   ]
  },
  {
   "cell_type": "code",
   "execution_count": 10,
   "metadata": {},
   "outputs": [
    {
     "data": {
      "image/png": "[encoded data removed]",
      "text/latex": [
       "$\\displaystyle -0.02564664719377529$"
      ],
      "text/plain": [
       "-0.02564664719377529"
      ]
     },
     "execution_count": 10,
     "metadata": {},
     "output_type": "execute_result"
    }
   ],
   "source": [
    "M0=100\n",
    "i=5\n",
    "t=2\n",
    "k=k(M0,i,t)\n",
    "k"
   ]
  },
  {
   "cell_type": "markdown",
   "metadata": {},
   "source": [
    "**Utilizamos el modelo de Decaimiento radioactivo para saber cuantos años tienen que transcurrir para que la masa desintegre el porcentaje que especifiquemos, en este caso buscamos el tiempo transcurrido para que la masa se desintegre 12%**"
   ]
  },
  {
   "cell_type": "code",
   "execution_count": 11,
   "metadata": {},
   "outputs": [],
   "source": [
    "def t1(M0,j,k):\n",
    "    perdida=(M0*i)/100\n",
    "    M1=M0-perdida\n",
    "    M2=M1/M0\n",
    "    t2=(np.log(M2)/k)\n",
    "    return t2"
   ]
  },
  {
   "cell_type": "code",
   "execution_count": 12,
   "metadata": {},
   "outputs": [
    {
     "name": "stdout",
     "output_type": "stream",
     "text": [
      "Tenemos una masa de  100  y queremos que disminuya  12.0 %, lo cual nos dejaria una masa de  88.0 tienen que pasar  4.984408704343677  años.\n"
     ]
    }
   ],
   "source": [
    "i=np.linspace(0,12,100) # el 12 en este linspace indica la tasa de desintegración \n",
    "j=i[-1]\n",
    "t2=t1(M0,i,k)\n",
    "perdida=(M0*i)/100\n",
    "M1=M0-perdida\n",
    "print('Tenemos una masa de ', M0,' y queremos que disminuya ',j,'%, lo cual nos dejaria una masa de ',M1[-1],'tienen que pasar ',t2[-1],' años.')"
   ]
  },
  {
   "cell_type": "code",
   "execution_count": 13,
   "metadata": {},
   "outputs": [
    {
     "data": {
      "image/png": "[encoded data removed]",
      "text/plain": [
       "<Figure size 432x288 with 1 Axes>"
      ]
     },
     "metadata": {
      "needs_background": "light"
     },
     "output_type": "display_data"
    }
   ],
   "source": [
    "plt.plot(i,t1(M0,j,k),label='Masa')\n",
    "plt.legend(loc='best')\n",
    "plt.xlabel('% Desintegracion de masa')\n",
    "plt.ylabel('Tiempo')\n",
    "plt.plot(i[-1],t2[-1],\"b^\",ms=7)\n",
    "plt.grid()"
   ]
  },
  {
   "cell_type": "markdown",
   "metadata": {},
   "source": [
    "**En la grafica tenemos nuestro eje x que es el porcentaje en que se desintegra la masa y el eje y es el Tiempo que transcurre**"
   ]
  },
  {
   "cell_type": "markdown",
   "metadata": {},
   "source": [
    "Conclusiones:\n"
   ]
  },
  {
   "cell_type": "markdown",
   "metadata": {},
   "source": [
    "Podemos concluir que la resolucion de la ED modelo de manera simbolica condujo a una buena guía para obtener una solución númerica y también se pudo complementar con una solución gráfica, algunos ejemplos de aplicación de la solución de ese modelo incluyen el fechado de piezas mediante trazas de materiales radioactivos, de gran importancia en arqueología e historia.\n"
   ]
  }
 ],
 "metadata": {
  "kernelspec": {
   "display_name": "Python 3",
   "language": "python",
   "name": "python3"
  },
  "language_info": {
   "codemirror_mode": {
    "name": "ipython",
    "version": 3
   },
   "file_extension": ".py",
   "mimetype": "text/x-python",
   "name": "python",
   "nbconvert_exporter": "python",
   "pygments_lexer": "ipython3",
   "version": "3.8.3"
  }
 },
 "nbformat": 4,
 "nbformat_minor": 4
}
